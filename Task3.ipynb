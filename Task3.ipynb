{
 "cells": [
  {
   "cell_type": "markdown",
   "id": "c70c26c1-811f-4224-ae04-08669831ccda",
   "metadata": {},
   "source": [
    "# TASK 3\n",
    "## Parallel Programming"
   ]
  },
  {
   "cell_type": "code",
   "execution_count": 1,
   "id": "1c01a36b-493e-49a3-92f0-5bcf2d831adb",
   "metadata": {},
   "outputs": [],
   "source": [
    "\"\"\"\n",
    "You have an image manipulation method \"preprocess()\" defined below that you want to apply to a list of images \n",
    "of dimensions (Height, Width, Channels).\n",
    "Your task is to change the code such that it processes the images faster using \"multi-processing\" that utilises\n",
    "all the cores of the CPU\n",
    "\n",
    "\"\"\"\n",
    "# !pip install scikit-image\n",
    "import random\n",
    "random.seed(0)\n",
    "import numpy as np\n",
    "import skimage.io\n",
    "import time\n",
    "\n",
    "# Randomly produced RGB images\n",
    "image_list = []\n",
    "for i in range(1000):\n",
    "    image_list.append(np.random.randint(1, 100, size=(512, 512,3)))\n",
    "\n",
    "def preprocess(image):\n",
    "    sigma = 3.0\n",
    "\n",
    "    # apply Gaussian blur, creating a new image\n",
    "    blurred = skimage.filters.gaussian(image, sigma=(sigma, sigma), truncate=3.5, channel_axis= -1)\n",
    "    return blurred"
   ]
  },
  {
   "cell_type": "code",
   "execution_count": 2,
   "id": "4c68526a-4cb0-4254-ac2f-5f41b92fdcf5",
   "metadata": {},
   "outputs": [
    {
     "name": "stdout",
     "output_type": "stream",
     "text": [
      "Execution time: 16.93820595741272 seconds\n"
     ]
    }
   ],
   "source": [
    "# Serial processing\n",
    "start = time.time()\n",
    "################# MODIFY YOUR CODE HERE #####################\n",
    "blurred_images = []\n",
    "for i in range(len(image_list)):\n",
    "    blurred_images.append(preprocess(image_list[i]))\n",
    "#############################################################       \n",
    "# get the end time\n",
    "end = time.time()\n",
    "# get the execution time\n",
    "elapsed_time = end - start\n",
    "print('Execution time:', elapsed_time, 'seconds')\n",
    "\n",
    "# print([i[0,0,0] for i in blurred_images])"
   ]
  },
  {
   "cell_type": "code",
   "execution_count": 4,
   "id": "03f5b720-ef42-4beb-afbd-df1315149cae",
   "metadata": {},
   "outputs": [
    {
     "name": "stdout",
     "output_type": "stream",
     "text": [
      "Execution time: 14.314060926437378 seconds\n"
     ]
    }
   ],
   "source": [
    "# del blurred_images\n",
    "\n",
    "# Parallel processing\n",
    "from multiprocessing import Pool\n",
    "pool = Pool(processes=None)\n",
    "\n",
    "start = time.time()\n",
    "blurred_image_parallel = pool.map(preprocess, image_list)\n",
    "end = time.time()\n",
    "elapsed_time = end - start\n",
    "pool.close()\n",
    "print('Execution time:', elapsed_time, 'seconds')\n",
    "\n",
    "# print([i[0,0,0] for i in blurred_image_parallel])"
   ]
  }
 ],
 "metadata": {
  "kernelspec": {
   "display_name": "Python 3 (ipykernel)",
   "language": "python",
   "name": "python3"
  },
  "language_info": {
   "codemirror_mode": {
    "name": "ipython",
    "version": 3
   },
   "file_extension": ".py",
   "mimetype": "text/x-python",
   "name": "python",
   "nbconvert_exporter": "python",
   "pygments_lexer": "ipython3",
   "version": "3.8.18"
  }
 },
 "nbformat": 4,
 "nbformat_minor": 5
}
