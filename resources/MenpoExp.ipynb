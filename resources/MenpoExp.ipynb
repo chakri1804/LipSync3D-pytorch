{
 "cells": [
  {
   "cell_type": "code",
   "execution_count": 2,
   "id": "3cd0cee8-4611-4dd3-adf6-6948951de32b",
   "metadata": {},
   "outputs": [
    {
     "data": {
      "text/plain": [
       "<menpo3d.visualize.viewmayavi.MayaviTexturedTriMeshViewer3d at 0x7f42dc57b880>"
      ]
     },
     "execution_count": 2,
     "metadata": {},
     "output_type": "execute_result"
    }
   ],
   "source": [
    "import menpo3d\n",
    "import menpo3d.io as mio\n",
    "import numpy as np\n",
    "\n",
    "template = mio.import_builtin_asset('james.obj')\n",
    "%matplotlib qt\n",
    "template.view()"
   ]
  },
  {
   "cell_type": "code",
   "execution_count": null,
   "id": "60b2c923-72b2-4f72-9539-d77d2196810b",
   "metadata": {},
   "outputs": [],
   "source": [
    "import menpo\n",
    "from menpo.shape import PointCloud\n",
    "print(type(template))\n",
    "points = PointCloud(template.points)\n",
    "points.view()\n",
    "texture = template.texture\n",
    "texture.view()\n",
    "tcoords = template.tcoords\n",
    "print(tcoords)\n",
    "tcoords.view()"
   ]
  },
  {
   "cell_type": "code",
   "execution_count": null,
   "id": "52d19a29-eed0-4712-9851-9653913153cf",
   "metadata": {},
   "outputs": [],
   "source": [
    "o_c_unwrap = menpo3d.unwrap.optimal_cylindrical_unwrap(template)\n",
    "unwrapped_template = o_c_unwrap.apply(template)\n",
    "# u_t_aspect_ratio = np.divide(*unwrapped_template.range()[:2])\n",
    "\n",
    "u_t_clip_transform = menpo3d.rasterize.transform.model_to_clip_transform(unwrapped_template)\n",
    "u_t_clip = u_t_clip_transform.apply(unwrapped_template)\n",
    "\n",
    "u_t_im_width = 256\n",
    "u_t_im_height = 256\n",
    "r = menpo3d.rasterize.GLRasterizer(width=u_t_im_width, height=u_t_im_height)\n",
    "\n",
    "u_t_image = r.rasterize_mesh(u_t_clip)\n",
    "u_t_image = u_t_image.pixels\n",
    "u_t_image = np.moveaxis(u_t_image, 0, -1)\n",
    "# new_tcoords = u_t_clip.points[:, :2] / 2 + .5\n",
    "# new_textured_mesh = menpo.shape.TexturedTriMesh(template.points, new_tcoords, u_t_image, trilist=template.trilist)\n",
    "import matplotlib.pyplot as plt\n",
    "plt.imshow(u_t_image)\n",
    "plt.show()"
   ]
  }
 ],
 "metadata": {
  "kernelspec": {
   "display_name": "Python 3 (ipykernel)",
   "language": "python",
   "name": "python3"
  },
  "language_info": {
   "codemirror_mode": {
    "name": "ipython",
    "version": 3
   },
   "file_extension": ".py",
   "mimetype": "text/x-python",
   "name": "python",
   "nbconvert_exporter": "python",
   "pygments_lexer": "ipython3",
   "version": "3.8.18"
  }
 },
 "nbformat": 4,
 "nbformat_minor": 5
}
